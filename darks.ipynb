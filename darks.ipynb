{
 "cells": [
  {
   "cell_type": "markdown",
   "metadata": {},
   "source": [
    "# Building the dark frames\n",
    "\n",
    "A dark frame is an image taken without illuminating the sensor (in the dark). The signal in a light (as opposed to dark) image is the sum of the light signal (from the observed scene) and the dark signal. The first step when processing a light image is to subtract the *mean* dark signal.\n",
    "In an individual dark frame, the values are the sum of the [bias](bias.ipynb), of the thermal signal and of the read noise. The per-pixel bias can be determined by averaging a large number of zero-second exposure dark frames. The read noise has zero mean and its standard deviation can be measured using [ptc analysis](ptc.ipynb). The thermal signal is a function of the temperature of the sensor and is proportional to the exposure time. The thermal electrons are indistinguishable from photo-electrons. For a given pixel, its value fluctuates according to Poisson statistics from frame to frame. For a given mean in a single frame, its value fluctuates from pixel to pixel.\n",
    "\n",
    "One should not use a single dark frame to calibrate a light frame, for otherwise the random fluctuations of the thermal signal and read noise would be added to the result.\n",
    "One must thus estimate the *mean* dark signal from a large number of acquisitions made at the exposure time, temperature and detector settings chosen for the light images.\n",
    "\n",
    "## Data acquisition\n",
    "\n",
    "We will operate at gain setting 100, as justified by analyzing the [noise in a stack of images](exposure.ipynb). For gain 100, we determined that the [optimal bias](bias.ipynb) is 15.\n",
    "We will need dark frames at 0 seconds (to produce the [flat fields](flats.ipynb)), 30s for regular exposures [noise in a stack of images](exposure.ipynb) and 90s for long exposures.\n",
    "For each exposure time, take 100 images at gain 100 and bias 15, and store them in three different directories.\n",
    "\n",
    "## Data reduction\n",
    "\n",
    "We read in the files from the three directories, and compute the average of each group of images. We display each image and its histogram below it."
   ]
  },
  {
   "cell_type": "code",
   "execution_count": 1,
   "metadata": {
    "ExecuteTime": {
     "end_time": "2023-07-29T13:58:06.779225400Z",
     "start_time": "2023-07-29T13:58:03.436590800Z"
    }
   },
   "outputs": [
    {
     "name": "stderr",
     "output_type": "stream",
     "text": [
      "0it [00:00, ?it/s]\n"
     ]
    },
    {
     "ename": "ZeroDivisionError",
     "evalue": "float division by zero",
     "output_type": "error",
     "traceback": [
      "\u001B[1;31m---------------------------------------------------------------------------\u001B[0m",
      "\u001B[1;31mZeroDivisionError\u001B[0m                         Traceback (most recent call last)",
      "Cell \u001B[1;32mIn[1], line 30\u001B[0m\n\u001B[0;32m     28\u001B[0m     dark \u001B[38;5;241m=\u001B[39m fits\u001B[38;5;241m.\u001B[39mgetdata(f)\n\u001B[0;32m     29\u001B[0m     dark_frame \u001B[38;5;241m=\u001B[39m dark_frame \u001B[38;5;241m+\u001B[39m dark\n\u001B[1;32m---> 30\u001B[0m dark_frame \u001B[38;5;241m=\u001B[39m \u001B[43mdark_frame\u001B[49m\u001B[43m \u001B[49m\u001B[38;5;241;43m/\u001B[39;49m\u001B[43m \u001B[49m\u001B[38;5;28;43mlen\u001B[39;49m\u001B[43m(\u001B[49m\u001B[43mfiles\u001B[49m\u001B[43m)\u001B[49m\n\u001B[0;32m     32\u001B[0m dark_frames\u001B[38;5;241m.\u001B[39mappend(dark_frame)\n\u001B[0;32m     33\u001B[0m base_headers\u001B[38;5;241m.\u001B[39mappend(fits\u001B[38;5;241m.\u001B[39mgetheader(files[\u001B[38;5;241m0\u001B[39m]))\n",
      "\u001B[1;31mZeroDivisionError\u001B[0m: float division by zero"
     ]
    },
    {
     "data": {
      "text/plain": "<Figure size 1600x600 with 8 Axes>",
      "image/png": "[encoded data removed]"
     },
     "metadata": {},
     "output_type": "display_data"
    }
   ],
   "source": [
    "import os\n",
    "from tqdm import tqdm\n",
    "import glob\n",
    "from astropy.io import fits\n",
    "from astropy.visualization import ImageNormalize, LinearStretch, PercentileInterval\n",
    "import matplotlib.pyplot as plt\n",
    "import numpy as np\n",
    "\n",
    "import inout\n",
    "\n",
    "# Replace by your directories\n",
    "paths = [r'D:\\Astro\\ASI2600MM\\20230715\\Darks_G100_O15_T-5_90s\\CameraCCD_1\\2023-07-15',\n",
    "         r'D:\\Astro\\ASI2600MM\\20230715\\Darks_G100_O15_T-5_60s\\CameraCCD_1\\2023-07-15',\n",
    "         r'D:\\Astro\\ASI2600MM\\20230715\\Darks_G100_O15_T-5_30s\\CameraCCD_1\\2023-07-15',\n",
    "         r'D:\\Astro\\ASI2600MM\\20230715\\Darks_G100_O15_T-5_00s\\CameraCCD_1\\2023-07-15'\n",
    "         ]\n",
    "\n",
    "fix, axes = plt.subplots(2, len(paths), figsize=(16, 6))\n",
    "\n",
    "dark_frames = []  # used to save the stacked dark frames\n",
    "base_headers = []  # used to save one header for later\n",
    "for i, path in enumerate(paths):\n",
    "        files = glob.glob(os.path.join(path, '*.fits'))\n",
    "\n",
    "        # Averages the dark frames\n",
    "        dark_frame = 0.0\n",
    "        for f in tqdm(files):\n",
    "            dark = fits.getdata(f)\n",
    "            dark_frame = dark_frame + dark\n",
    "        dark_frame = dark_frame / len(files)\n",
    "\n",
    "        dark_frames.append(dark_frame)\n",
    "        base_headers.append(fits.getheader(files[0]))\n",
    "\n",
    "        norm = ImageNormalize(dark_frame, stretch=LinearStretch(), interval=PercentileInterval(99))\n",
    "\n",
    "        axes[0].imshow(dark_frame, norm=norm, origin='lower')\n",
    "        axes[1].hist(dark_frame.flatten(), histtype='step', bins=int(norm.vmax - norm.vmin), range=[norm.vmin, norm.vmax])\n",
    "        axes[1].set_xlabel('Pixel value [DN]')\n",
    "        axes[1].set_ylabel('Number of pixels')"
   ]
  },
  {
   "cell_type": "markdown",
   "source": [
    "The ASI 2600 has a vary uniform dark signal. Other sensors can show significantly non uniform patterns, *e.g.* [hotter (thus brighter) edges / corners](https://www.cloudynights.com/uploads/monthly_01_2016/post-199816-0-67542700-1452139850.jpg).\n",
    "\n",
    "We now save the averaged dark frames with a basic header."
   ],
   "metadata": {
    "collapsed": false
   }
  },
  {
   "cell_type": "code",
   "execution_count": 6,
   "outputs": [],
   "source": [
    "camera = 'ASI178MM'\n",
    "\n",
    "for base_header, dark_frame in zip(base_headers, dark_frames):\n",
    "\n",
    "        gain = base_header['GAIN']\n",
    "        temp = base_header['CCD-TEMP']\n",
    "        date = base_header['DATE-OBS']\n",
    "        exptime = base_header['EXPTIME']\n",
    "\n",
    "        keys = (\n",
    "                ('DATE-OBS', date),\n",
    "                ('INSTRUME', camera),\n",
    "                ('OFFSET', base_header['OFFSET']),\n",
    "                ('ISO', gain),\n",
    "                ('EXPTIME', exptime),\n",
    "                ('NBIMGS', int(len(files))),\n",
    "                ('TEMP', temp),\n",
    "                ('AVGTEMP', temp)\n",
    "        )\n",
    "\n",
    "        # change to whatever directory you want ot store the stacked darks into\n",
    "        inout.save_calibration_frame(rf'C:\\EOS6D\\bias\\asi178mm_dark_iso{gain:03}_t{temp:.3f}_'\n",
    "                                     rf'{exptime:.2f}s_{date[0:10]}.fits', dark_frame, keys)\n"
   ],
   "metadata": {
    "collapsed": false,
    "ExecuteTime": {
     "end_time": "2023-07-28T15:40:41.392040900Z",
     "start_time": "2023-07-28T15:40:41.289377600Z"
    }
   }
  }
 ],
 "metadata": {
  "kernelspec": {
   "display_name": "Python 3 (ipykernel)",
   "language": "python",
   "name": "python3"
  },
  "language_info": {
   "codemirror_mode": {
    "name": "ipython",
    "version": 3
   },
   "file_extension": ".py",
   "mimetype": "text/x-python",
   "name": "python",
   "nbconvert_exporter": "python",
   "pygments_lexer": "ipython3",
   "version": "3.9.7"
  }
 },
 "nbformat": 4,
 "nbformat_minor": 1
}
