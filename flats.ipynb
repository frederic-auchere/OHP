{
 "cells": [
  {
   "cell_type": "markdown",
   "source": [
    "# Building flat field frames\n",
    "\n",
    "The flat field takes into account the multiplicative pixel-to-pixel variations of the system's response, including the gain of the camera and the [vignetting](https://en.wikipedia.org/wiki/Vignetting). The flat field is typically normalized to its mean value as a dimensionless quantity. The absolute value of the optics efficiency and of the gain of the sensor being determined independently (by [PTC analysis](ptc.ipynb) for the gain)\n",
    "\n",
    "A flat-field image is obtained y illuminating the sensor with a uniform light source. This can be achieved using the sky background at dawn or dusk (so that there are no stars), or a flat panel (which we will use). A single flat-field image is a light image and must therefore be dark-subtracted before use. Given the very short exposures used for flat-fields, we will use the 0-second dark created in the [dark frame notebook](darks.ipynb).\n",
    "\n",
    "One should not use a single flat-field frame to calibrate a light frame, for otherwise the random fluctuations of the signal and read noise would be added to the result. One must thus estimate the *mean* flat field from a large number of acquisitions made at the detector settings chosen for the light images.\n",
    "\n",
    "## Data acquisition\n",
    "\n",
    "We will operate at gain setting 100, as justified by analyzing the [noise in a stack of images](exposure.ipynb). For gain 100, we determined that the [optimal bias](bias.ipynb) is 15.\n",
    "\n",
    "For each one of the seven filters (L, R, G, B, SII, H&#0945;, OIII), adjust the brightness of the panel and the exposure time to be close to saturation without reaching it. Then take 100 images at gain 100 and bias 15, and store them in seven different directories.\n",
    "\n",
    "## Data reduction\n",
    "\n",
    "For each filter, we read in the files, and compute the average. We display the image and its histogram next to it."
   ],
   "metadata": {
    "collapsed": false
   }
  },
  {
   "cell_type": "code",
   "execution_count": null,
   "metadata": {
    "collapsed": true
   },
   "outputs": [],
   "source": [
    "import os\n",
    "import inout\n",
    "from tqdm import tqdm\n",
    "import numpy as np\n",
    "import glob\n",
    "from astropy.io import fits\n",
    "from astropy.visualization import ImageNormalize, LinearStretch, PercentileInterval\n",
    "import matplotlib.pyplot as plt\n",
    "\n",
    "# Replace by your directory\n",
    "paths = [r'',\n",
    "         r'',\n",
    "         r'',\n",
    "         r'',\n",
    "         r'',\n",
    "         r'',\n",
    "         r'']\n",
    "\n",
    "fix, axes = plt.subplots(7, 2, figsize=(12, 20))\n",
    "\n",
    "flat_frames = []  # used to save the stacked flat frames\n",
    "base_headers = []  # used to save one header for later\n",
    "for i, path in enumerate(paths):\n",
    "        files = glob.glob(os.path.join(path, '*.fits'))\n",
    "\n",
    "        # Averages the flat frames\n",
    "        flat_frame = 0\n",
    "        for f in tqdm(files):\n",
    "            flat_frame = flat_frame + fits.getdata(f)\n",
    "        flat_frame = flat_frame / len(files)\n",
    "        # Normalize to the mean\n",
    "        flat_frame /= np.mean(flat_frame)\n",
    "\n",
    "        flat_frames.append(flat_frame)\n",
    "        base_header = fits.get_header(files[0])\n",
    "        base_headers.append(base_header)\n",
    "\n",
    "        norm = ImageNormalize(flat_frame, stretch=LinearStretch(), interval=PercentileInterval(99))\n",
    "\n",
    "        axes[i, 0].imshow(flat_frame, norm=norm, origin='lower')\n",
    "        axes[i, 0].set_title(base_header['FILTER'])\n",
    "        axes[i, 1].hist(flat_frame.flatten(), histtype='step', bins=int(norm.vmax - norm.vmin), range=[norm.vmin, norm.vmax])\n",
    "        axes[i, 1].set_xlabel('Flat value')\n",
    "        axes[i, 1].set_ylabel('Number of pixels')"
   ]
  },
  {
   "cell_type": "markdown",
   "source": [],
   "metadata": {
    "collapsed": false
   }
  },
  {
   "cell_type": "code",
   "execution_count": null,
   "outputs": [],
   "source": [
    "camera = 'ASI2600MM'\n",
    "telescope = 'esprit100ED'filter = 'R'\n",
    "\n",
    "for base_header, flat_frame in zip(base_headers, flat_frames):\n",
    "\n",
    "        gain = base_header['GAIN']\n",
    "        date = base_header['DATE-OBS']\n",
    "        temp = base_header['CCD-TEMP']\n",
    "        filt = base_header['FILTER']\n",
    "\n",
    "        keys = (\n",
    "                ('DATE-OBS', date),\n",
    "                ('TELESCOP', telescope),\n",
    "                ('INSTRUME', camera),\n",
    "                ('OFFSET', base_header['OFFSET']),\n",
    "                ('ISO', gain),\n",
    "                ('EXPTIME', base_header['EXPTIME']),\n",
    "                ('NBIMGS', int(len(files))),\n",
    "                ('TEMP', temp),\n",
    "                ('FILTER', filt)\n",
    "        )\n",
    "\n",
    "        # change to whatever directory you want ot store the stacked flats into\n",
    "        inout.save_calibration_frame(rf'C:\\EOS6D\\vignetting\\vignetting_{telescope}_iso00{gain}_{filt}_t{temp:.3f}_{date[0:10]}.fits', flat_frame, keys)"
   ],
   "metadata": {
    "collapsed": false
   }
  }
 ],
 "metadata": {
  "kernelspec": {
   "display_name": "Python 3",
   "language": "python",
   "name": "python3"
  },
  "language_info": {
   "codemirror_mode": {
    "name": "ipython",
    "version": 2
   },
   "file_extension": ".py",
   "mimetype": "text/x-python",
   "name": "python",
   "nbconvert_exporter": "python",
   "pygments_lexer": "ipython2",
   "version": "2.7.6"
  }
 },
 "nbformat": 4,
 "nbformat_minor": 0
}
