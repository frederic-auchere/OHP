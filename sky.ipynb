{
 "cells": [
  {
   "cell_type": "markdown",
   "source": [
    "# Measurement of the sky brightness\n",
    "\n",
    "Knowledge of the signal from the sky background (in electrons / second) is necessary to determine the [optimal exposure time](exposure.ipynb).\n",
    "\n",
    "## Data acquisition\n",
    "Pick a dark region of the sky, free of large objects / nebulae / bright stars, the objective being to measure the brightness of the sky background itself. Take a picture with each one of the seven filters (L, R, G, B, H&#0945;, SII, OIII) with an exposure time of 90 seconds, which should be enough to get significant sky signal.\n",
    "\n",
    "## Data reduction\n",
    "In order to reduce the data, we need to have the detector gain measured so that we can convert DNs to electrons. See the [PTC](ptc.ipynb) notebook.\n",
    "We then read in each image, subtract the dar frame, convert to electrons, and normalize to the exposure time. For each image, we plot the middle row, and compute the median value  over the whole frame. The median is used to estimate the value of the background without being affected too much by the stars."
   ],
   "metadata": {
    "collapsed": false
   }
  },
  {
   "cell_type": "code",
   "execution_count": null,
   "metadata": {
    "collapsed": true
   },
   "outputs": [],
   "source": [
    "from astropy.io import fits\n",
    "import matplotlib.pyplot as plt\n",
    "import numpy as np\n",
    "\n",
    "dark_file = r''\n",
    "dark = fits.getdata(dark_file)\n",
    "\n",
    "sky_files = [r'', r'', r'', r'', r'', r'', r'']\n",
    "labels = ['L', 'R', 'G', 'B', 'SII', 'H$\\\\alpha$', 'OIII']\n",
    "gain = 1\n",
    "\n",
    "fig, ax = plt.subplots(1, 1, figsize=(16, 8))\n",
    "for f, l in sky_files, labels:\n",
    "    with fits.open(f) as hdu:\n",
    "        image = hdu[0].data\n",
    "        header = hdu[0].header\n",
    "    image -= dark  # subtract the dark\n",
    "    image *= gain  # convert to electrons\n",
    "    image /= header['XPOSURE']  # normalize to exposure time\n",
    "    ax.plot(image[image.shape[0] //2, :], label=f'{l} - {np.median(image):0.2f} e$^-$/s')\n",
    "\n",
    "ax.set_xlabel('[pixel]')\n",
    "ax.set_ylabel('Signal rate [e$^-$/s]')\n",
    "ax.legend()"
   ]
  },
  {
   "cell_type": "markdown",
   "source": [
    "## Interpretation\n",
    "- Check tha the median values correspond to the level estimated visually from the curves.\n",
    "- Compare the electron rate value obtained with the estimate from [this tool](https://tools.sharpcap.co.uk/). The sky brightness at OHP (in magnitude per arcsecond&#0178;) can be found on this [light pollution map](https://www.lightpollutionmap.info/). The measured F/D ratio of the ESPRIT 100 ED refractor is 5.55 (1% larger than listed in the [user's manual](https://inter-static.skywatcher.com/upfiles/en_download_caty01390352363.pdf)). The pixel size and quantum efficiency of the ASI 2600 camera can be found in its [user's manual](https://astronomy-imaging-camera.com/manuals/ASI2600_Manual_EN.pdf). The bandwidths of the filters can be found on the manufacturer's website [LRGB](https://www.baader-planetarium.com/en/filters/l-rgb-cmos-filters/baader-lrgb-filter-set-%E2%80%93-cmos-optimized.html), [SII, H&#0945;, OIII](https://www.baader-planetarium.com/en/filters/(ultra-)-narrowband-/-highspeed/baader-6.5nm-narrowband-filter-set-%E2%80%93-cmos-optimized-(h-alpha--o-iii--s-ii).html).\n"
   ],
   "metadata": {
    "collapsed": false
   }
  }
 ],
 "metadata": {
  "kernelspec": {
   "display_name": "Python 3",
   "language": "python",
   "name": "python3"
  },
  "language_info": {
   "codemirror_mode": {
    "name": "ipython",
    "version": 2
   },
   "file_extension": ".py",
   "mimetype": "text/x-python",
   "name": "python",
   "nbconvert_exporter": "python",
   "pygments_lexer": "ipython2",
   "version": "2.7.6"
  }
 },
 "nbformat": 4,
 "nbformat_minor": 0
}
