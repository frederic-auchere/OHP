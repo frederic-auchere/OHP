{
 "cells": [
  {
   "cell_type": "markdown",
   "source": [
    "# Measurement of the sky brightness\n",
    "\n",
    "Knowledge of the signal from the sky background (in electrons / second) is necessary to determine the [optimal exposure time](exposure.ipynb).\n",
    "\n",
    "## Data acquisition\n",
    "Pick a dark region of the sky, free of large objects / nebulae / bright stars, the objective being to measure the brightness of the sky background itself. Take a picture with each one of the seven filters (L, R, G, B, H&#0945;, SII, OIII) with an exposure time of 90 seconds, which should be enough to get significant sky signal.\n",
    "\n",
    "## Data reduction\n",
    "In order to reduce the data, we need to have the detector gain measured so that we can convert DNs to electrons. See the [PTC](ptc.ipynb) notebook.\n",
    "We then read in each image, subtract the dar frame, convert to electrons, and normalize to the exposure time. For each image, we plot the middle row, and compute the median value  over the whole frame. The median is used to estimate the value of the background without being affected too much by the stars."
   ],
   "metadata": {
    "collapsed": false
   }
  },
  {
   "cell_type": "code",
   "execution_count": 1,
   "metadata": {
    "collapsed": true,
    "ExecuteTime": {
     "end_time": "2023-09-01T08:36:11.993365200Z",
     "start_time": "2023-09-01T08:36:11.153899300Z"
    }
   },
   "outputs": [
    {
     "ename": "ValueError",
     "evalue": "Empty filename: ''",
     "output_type": "error",
     "traceback": [
      "\u001B[1;31m---------------------------------------------------------------------------\u001B[0m",
      "\u001B[1;31mValueError\u001B[0m                                Traceback (most recent call last)",
      "Cell \u001B[1;32mIn[1], line 6\u001B[0m\n\u001B[0;32m      3\u001B[0m \u001B[38;5;28;01mimport\u001B[39;00m \u001B[38;5;21;01mnumpy\u001B[39;00m \u001B[38;5;28;01mas\u001B[39;00m \u001B[38;5;21;01mnp\u001B[39;00m\n\u001B[0;32m      5\u001B[0m dark_file \u001B[38;5;241m=\u001B[39m \u001B[38;5;124mr\u001B[39m\u001B[38;5;124m'\u001B[39m\u001B[38;5;124m'\u001B[39m\n\u001B[1;32m----> 6\u001B[0m dark \u001B[38;5;241m=\u001B[39m \u001B[43mfits\u001B[49m\u001B[38;5;241;43m.\u001B[39;49m\u001B[43mgetdata\u001B[49m\u001B[43m(\u001B[49m\u001B[43mdark_file\u001B[49m\u001B[43m)\u001B[49m\n\u001B[0;32m      8\u001B[0m sky_files \u001B[38;5;241m=\u001B[39m [\u001B[38;5;124mr\u001B[39m\u001B[38;5;124m'\u001B[39m\u001B[38;5;124m'\u001B[39m, \u001B[38;5;124mr\u001B[39m\u001B[38;5;124m'\u001B[39m\u001B[38;5;124m'\u001B[39m, \u001B[38;5;124mr\u001B[39m\u001B[38;5;124m'\u001B[39m\u001B[38;5;124m'\u001B[39m, \u001B[38;5;124mr\u001B[39m\u001B[38;5;124m'\u001B[39m\u001B[38;5;124m'\u001B[39m, \u001B[38;5;124mr\u001B[39m\u001B[38;5;124m'\u001B[39m\u001B[38;5;124m'\u001B[39m, \u001B[38;5;124mr\u001B[39m\u001B[38;5;124m'\u001B[39m\u001B[38;5;124m'\u001B[39m, \u001B[38;5;124mr\u001B[39m\u001B[38;5;124m'\u001B[39m\u001B[38;5;124m'\u001B[39m]\n\u001B[0;32m      9\u001B[0m labels \u001B[38;5;241m=\u001B[39m [\u001B[38;5;124m'\u001B[39m\u001B[38;5;124mL\u001B[39m\u001B[38;5;124m'\u001B[39m, \u001B[38;5;124m'\u001B[39m\u001B[38;5;124mR\u001B[39m\u001B[38;5;124m'\u001B[39m, \u001B[38;5;124m'\u001B[39m\u001B[38;5;124mG\u001B[39m\u001B[38;5;124m'\u001B[39m, \u001B[38;5;124m'\u001B[39m\u001B[38;5;124mB\u001B[39m\u001B[38;5;124m'\u001B[39m, \u001B[38;5;124m'\u001B[39m\u001B[38;5;124mSII\u001B[39m\u001B[38;5;124m'\u001B[39m, \u001B[38;5;124m'\u001B[39m\u001B[38;5;124mH$\u001B[39m\u001B[38;5;130;01m\\\\\u001B[39;00m\u001B[38;5;124malpha$\u001B[39m\u001B[38;5;124m'\u001B[39m, \u001B[38;5;124m'\u001B[39m\u001B[38;5;124mOIII\u001B[39m\u001B[38;5;124m'\u001B[39m]\n",
      "File \u001B[1;32mc:\\users\\fauchere\\documents\\02-programmes\\python\\scripts\\ohp\\.venv\\lib\\site-packages\\astropy\\io\\fits\\convenience.py:220\u001B[0m, in \u001B[0;36mgetdata\u001B[1;34m(filename, header, lower, upper, view, *args, **kwargs)\u001B[0m\n\u001B[0;32m    215\u001B[0m extver \u001B[38;5;241m=\u001B[39m kwargs\u001B[38;5;241m.\u001B[39mget(\u001B[38;5;124m\"\u001B[39m\u001B[38;5;124mextver\u001B[39m\u001B[38;5;124m\"\u001B[39m)\n\u001B[0;32m    216\u001B[0m ext_given \u001B[38;5;241m=\u001B[39m \u001B[38;5;129;01mnot\u001B[39;00m (\n\u001B[0;32m    217\u001B[0m     \u001B[38;5;28mlen\u001B[39m(args) \u001B[38;5;241m==\u001B[39m \u001B[38;5;241m0\u001B[39m \u001B[38;5;129;01mand\u001B[39;00m ext \u001B[38;5;129;01mis\u001B[39;00m \u001B[38;5;28;01mNone\u001B[39;00m \u001B[38;5;129;01mand\u001B[39;00m extname \u001B[38;5;129;01mis\u001B[39;00m \u001B[38;5;28;01mNone\u001B[39;00m \u001B[38;5;129;01mand\u001B[39;00m extver \u001B[38;5;129;01mis\u001B[39;00m \u001B[38;5;28;01mNone\u001B[39;00m\n\u001B[0;32m    218\u001B[0m )\n\u001B[1;32m--> 220\u001B[0m hdulist, extidx \u001B[38;5;241m=\u001B[39m _getext(filename, mode, \u001B[38;5;241m*\u001B[39margs, \u001B[38;5;241m*\u001B[39m\u001B[38;5;241m*\u001B[39mkwargs)\n\u001B[0;32m    221\u001B[0m \u001B[38;5;28;01mtry\u001B[39;00m:\n\u001B[0;32m    222\u001B[0m     hdu \u001B[38;5;241m=\u001B[39m hdulist[extidx]\n",
      "File \u001B[1;32mc:\\users\\fauchere\\documents\\02-programmes\\python\\scripts\\ohp\\.venv\\lib\\site-packages\\astropy\\io\\fits\\convenience.py:1113\u001B[0m, in \u001B[0;36m_getext\u001B[1;34m(filename, mode, ext, extname, extver, *args, **kwargs)\u001B[0m\n\u001B[0;32m   1110\u001B[0m \u001B[38;5;28;01melif\u001B[39;00m extver \u001B[38;5;129;01mand\u001B[39;00m extname \u001B[38;5;129;01mis\u001B[39;00m \u001B[38;5;28;01mNone\u001B[39;00m:\n\u001B[0;32m   1111\u001B[0m     \u001B[38;5;28;01mraise\u001B[39;00m \u001B[38;5;167;01mTypeError\u001B[39;00m(\u001B[38;5;124m\"\u001B[39m\u001B[38;5;124mextver alone cannot specify an extension.\u001B[39m\u001B[38;5;124m\"\u001B[39m)\n\u001B[1;32m-> 1113\u001B[0m hdulist \u001B[38;5;241m=\u001B[39m fitsopen(filename, mode\u001B[38;5;241m=\u001B[39mmode, \u001B[38;5;241m*\u001B[39m\u001B[38;5;241m*\u001B[39mkwargs)\n\u001B[0;32m   1115\u001B[0m \u001B[38;5;28;01mreturn\u001B[39;00m hdulist, ext\n",
      "File \u001B[1;32mc:\\users\\fauchere\\documents\\02-programmes\\python\\scripts\\ohp\\.venv\\lib\\site-packages\\astropy\\io\\fits\\hdu\\hdulist.py:211\u001B[0m, in \u001B[0;36mfitsopen\u001B[1;34m(name, mode, memmap, save_backup, cache, lazy_load_hdus, ignore_missing_simple, use_fsspec, fsspec_kwargs, **kwargs)\u001B[0m\n\u001B[0;32m    208\u001B[0m     kwargs[\u001B[38;5;124m\"\u001B[39m\u001B[38;5;124muint\u001B[39m\u001B[38;5;124m\"\u001B[39m] \u001B[38;5;241m=\u001B[39m conf\u001B[38;5;241m.\u001B[39menable_uint\n\u001B[0;32m    210\u001B[0m \u001B[38;5;28;01mif\u001B[39;00m \u001B[38;5;129;01mnot\u001B[39;00m name:\n\u001B[1;32m--> 211\u001B[0m     \u001B[38;5;28;01mraise\u001B[39;00m \u001B[38;5;167;01mValueError\u001B[39;00m(\u001B[38;5;124mf\u001B[39m\u001B[38;5;124m\"\u001B[39m\u001B[38;5;124mEmpty filename: \u001B[39m\u001B[38;5;132;01m{\u001B[39;00mname\u001B[38;5;132;01m!r}\u001B[39;00m\u001B[38;5;124m\"\u001B[39m)\n\u001B[0;32m    213\u001B[0m \u001B[38;5;28;01mreturn\u001B[39;00m HDUList\u001B[38;5;241m.\u001B[39mfromfile(\n\u001B[0;32m    214\u001B[0m     name,\n\u001B[0;32m    215\u001B[0m     mode,\n\u001B[1;32m   (...)\u001B[0m\n\u001B[0;32m    223\u001B[0m     \u001B[38;5;241m*\u001B[39m\u001B[38;5;241m*\u001B[39mkwargs,\n\u001B[0;32m    224\u001B[0m )\n",
      "\u001B[1;31mValueError\u001B[0m: Empty filename: ''"
     ]
    }
   ],
   "source": [
    "from astropy.io import fits\n",
    "import matplotlib.pyplot as plt\n",
    "import numpy as np\n",
    "\n",
    "dark_file = r''  # dark filename\n",
    "dark = fits.getdata(dark_file)\n",
    "\n",
    "sky_files = [r'', r'', r'', r'', r'', r'', r'']  # sky filenames\n",
    "labels = ['L', 'R', 'G', 'B', 'SII', 'H$\\\\alpha$', 'OIII']\n",
    "gain = 1\n",
    "\n",
    "fig, ax = plt.subplots(1, 1, figsize=(16, 8))\n",
    "for f, l in sky_files, labels:\n",
    "    with fits.open(f) as hdu:\n",
    "        image = hdu[0].data\n",
    "        header = hdu[0].header\n",
    "    image -= dark  # subtract the dark\n",
    "    image *= gain  # convert to electrons\n",
    "    image /= header['XPOSURE']  # normalize to exposure time\n",
    "    ax.plot(image[image.shape[0] //2, :], label=f'{l} - {np.median(image):0.2f} e$^-$/s')\n",
    "\n",
    "ax.set_xlabel('[pixel]')\n",
    "ax.set_ylabel('Signal rate [e$^-$/s]')\n",
    "ax.legend()"
   ]
  },
  {
   "cell_type": "markdown",
   "source": [
    "## Interpretation\n",
    "- Check that the median values correspond to the level estimated visually from the curves.\n",
    "- Compare the electron rate value obtained with the estimate from [this tool](https://tools.sharpcap.co.uk/). The sky brightness at OHP (in magnitude per arcsecond&#0178;) can be found on this [light pollution map](https://www.lightpollutionmap.info/). The measured F/D ratio of the ESPRIT 100 ED refractor is 5.55 (1% larger than listed in the [user's manual](https://inter-static.skywatcher.com/upfiles/en_download_caty01390352363.pdf)). The pixel size and quantum efficiency of the ASI 2600 camera can be found in its [user's manual](https://astronomy-imaging-camera.com/manuals/ASI2600_Manual_EN.pdf). The bandwidths of the filters can be found on the manufacturer's website [LRGB](https://www.baader-planetarium.com/en/filters/l-rgb-cmos-filters/baader-lrgb-filter-set-%E2%80%93-cmos-optimized.html), [SII, H&#0945;, OIII](https://www.baader-planetarium.com/en/filters/(ultra-)-narrowband-/-highspeed/baader-6.5nm-narrowband-filter-set-%E2%80%93-cmos-optimized-(h-alpha--o-iii--s-ii).html).\n"
   ],
   "metadata": {
    "collapsed": false
   }
  }
 ],
 "metadata": {
  "kernelspec": {
   "display_name": "Python 3",
   "language": "python",
   "name": "python3"
  },
  "language_info": {
   "codemirror_mode": {
    "name": "ipython",
    "version": 2
   },
   "file_extension": ".py",
   "mimetype": "text/x-python",
   "name": "python",
   "nbconvert_exporter": "python",
   "pygments_lexer": "ipython2",
   "version": "2.7.6"
  }
 },
 "nbformat": 4,
 "nbformat_minor": 0
}
